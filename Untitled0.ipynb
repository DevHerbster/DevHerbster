{
  "nbformat": 4,
  "nbformat_minor": 0,
  "metadata": {
    "colab": {
      "provenance": [],
      "authorship_tag": "ABX9TyNwUcSGrTwnp9CbmUv0ffmf",
      "include_colab_link": true
    },
    "kernelspec": {
      "name": "python3",
      "display_name": "Python 3"
    },
    "language_info": {
      "name": "python"
    }
  },
  "cells": [
    {
      "cell_type": "markdown",
      "metadata": {
        "id": "view-in-github",
        "colab_type": "text"
      },
      "source": [
        "<a href=\"https://colab.research.google.com/github/DevHerbster/DevHerbster/blob/main/Untitled0.ipynb\" target=\"_parent\"><img src=\"https://colab.research.google.com/assets/colab-badge.svg\" alt=\"Open In Colab\"/></a>"
      ]
    },
    {
      "cell_type": "markdown",
      "source": [
        "1"
      ],
      "metadata": {
        "id": "J0o7X3vbfog-"
      }
    },
    {
      "cell_type": "code",
      "source": [
        "\n",
        "valor_compra = float(input(\"Digite o valor da compra: R$ \"))\n",
        "\n",
        "if valor_compra >= 100:\n",
        "    desconto = valor_compra * 0.10\n",
        "    valor_final = valor_compra - desconto\n",
        "    print(f\"Valor com desconto: R$ {valor_final:.2f}\")\n",
        "else:\n",
        "    print(\"Não há desconto para compras abaixo de R$ 100,00.\")"
      ],
      "metadata": {
        "colab": {
          "base_uri": "https://localhost:8080/"
        },
        "id": "GGUoxHhpgKll",
        "outputId": "e277fd75-6a5f-4f2f-f381-fa771c264715"
      },
      "execution_count": 3,
      "outputs": [
        {
          "output_type": "stream",
          "name": "stdout",
          "text": [
            "Digite o valor da compra: R$ 500\n",
            "Valor com desconto: R$ 450.00\n"
          ]
        }
      ]
    },
    {
      "cell_type": "markdown",
      "source": [
        "2"
      ],
      "metadata": {
        "id": "MhCFIyNggjG4"
      }
    },
    {
      "cell_type": "code",
      "source": [
        "\n",
        "ano = int(input(\"Digite um ano para verificar se é bissexto: \"))\n",
        "\n",
        "if (ano % 4 == 0 and ano % 100 != 0) or (ano % 400 == 0):\n",
        "    print(f\"O ano {ano} é bissexto.\")\n",
        "else:\n",
        "    print(f\"O ano {ano} não é bissexto.\")"
      ],
      "metadata": {
        "colab": {
          "base_uri": "https://localhost:8080/"
        },
        "id": "kDZoO5ykgmuh",
        "outputId": "a072fd8d-d3a4-472b-f53b-49d5502dcf9a"
      },
      "execution_count": 5,
      "outputs": [
        {
          "output_type": "stream",
          "name": "stdout",
          "text": [
            "Digite um ano para verificar se é bissexto: 2023\n",
            "O ano 2023 não é bissexto.\n"
          ]
        }
      ]
    },
    {
      "cell_type": "markdown",
      "source": [
        "3\n"
      ],
      "metadata": {
        "id": "AjStyFswhEox"
      }
    },
    {
      "cell_type": "code",
      "source": [
        "\n",
        "senha = int(input(\"Digite a senha numérica: \"))\n",
        "\n",
        "if senha == 1234:\n",
        "    print(\"Acesso concedido.\")\n",
        "else:\n",
        "    print(\"Acesso negado.\")"
      ],
      "metadata": {
        "colab": {
          "base_uri": "https://localhost:8080/"
        },
        "id": "ft8HgeXqhGPO",
        "outputId": "7c584d68-7d69-42ca-c631-db471b960981"
      },
      "execution_count": 6,
      "outputs": [
        {
          "output_type": "stream",
          "name": "stdout",
          "text": [
            "Digite a senha numérica: 1234\n",
            "Acesso concedido.\n"
          ]
        }
      ]
    },
    {
      "cell_type": "markdown",
      "source": [
        "4"
      ],
      "metadata": {
        "id": "cvDmfB_AhTCi"
      }
    },
    {
      "cell_type": "code",
      "source": [
        "\n",
        "a = float(input(\"Digite o comprimento do primeiro lado: \"))\n",
        "b = float(input(\"Digite o comprimento do segundo lado: \"))\n",
        "c = float(input(\"Digite o comprimento do terceiro lado: \"))\n",
        "\n",
        "if a + b > c and a + c > b and b + c > a:\n",
        "    print(\"Os valores formam um triângulo válido.\")\n",
        "else:\n",
        "    print(\"Os valores não formam um triângulo válido.\")"
      ],
      "metadata": {
        "colab": {
          "base_uri": "https://localhost:8080/"
        },
        "id": "CzXiXkfJhVs4",
        "outputId": "22db0ac9-29fc-4664-931c-7e152995c3ee"
      },
      "execution_count": 7,
      "outputs": [
        {
          "output_type": "stream",
          "name": "stdout",
          "text": [
            "Digite o comprimento do primeiro lado: 20\n",
            "Digite o comprimento do segundo lado: 20\n",
            "Digite o comprimento do terceiro lado: 20\n",
            "Os valores formam um triângulo válido.\n"
          ]
        }
      ]
    },
    {
      "cell_type": "markdown",
      "source": [
        "5\n"
      ],
      "metadata": {
        "id": "hiiZmEtqhfqa"
      }
    },
    {
      "cell_type": "code",
      "source": [
        "\n",
        "numero = int(input(\"Digite um número inteiro: \"))\n",
        "\n",
        "if numero % 5 == 0:\n",
        "    print(f\"O número {numero} é múltiplo de 5.\")\n",
        "else:\n",
        "    print(f\"O número {numero} não é múltiplo de 5.\")"
      ],
      "metadata": {
        "colab": {
          "base_uri": "https://localhost:8080/"
        },
        "id": "fv2zlSXzhhHc",
        "outputId": "401bd669-1207-4633-d621-dd850e3fbcb5"
      },
      "execution_count": 8,
      "outputs": [
        {
          "output_type": "stream",
          "name": "stdout",
          "text": [
            "Digite um número inteiro: 10\n",
            "O número 10 é múltiplo de 5.\n"
          ]
        }
      ]
    },
    {
      "cell_type": "markdown",
      "source": [
        "6\n"
      ],
      "metadata": {
        "id": "ZeilDZfqhz-a"
      }
    },
    {
      "cell_type": "code",
      "source": [
        "\n",
        "unidades_vendidas = int(input(\"Digite a quantidade de unidades vendidas: \"))\n",
        "\n",
        "if unidades_vendidas > 1000:\n",
        "    print(\"O vendedor ganhou o bônus!\")\n",
        "else:\n",
        "    print(\"O vendedor não ganhou o bônus.\")"
      ],
      "metadata": {
        "colab": {
          "base_uri": "https://localhost:8080/"
        },
        "id": "5cH8oZT_h1YP",
        "outputId": "18eaee8f-fda9-4e3b-8151-5ac5722332ef"
      },
      "execution_count": 10,
      "outputs": [
        {
          "output_type": "stream",
          "name": "stdout",
          "text": [
            "Digite a quantidade de unidades vendidas: 1500\n",
            "O vendedor ganhou o bônus!\n"
          ]
        }
      ]
    },
    {
      "cell_type": "markdown",
      "source": [
        "7\n"
      ],
      "metadata": {
        "id": "-WWtC3O8iTzp"
      }
    },
    {
      "cell_type": "code",
      "source": [
        "\n",
        "idade = int(input(\"Digite a sua idade: \"))\n",
        "\n",
        "if idade >= 60:\n",
        "    valor_ingresso = 10\n",
        "    print(f\"Você é idoso. O valor do ingresso é R$ {valor_ingresso}.\")\n",
        "elif idade >= 18:\n",
        "    valor_ingresso = 20\n",
        "    print(f\"Você é adulto. O valor do ingresso é R$ {valor_ingresso}.\")\n",
        "else:\n",
        "    valor_ingresso = 15\n",
        "    print(f\"Você é criança. O valor do ingresso é R$ {valor_ingresso}.\")"
      ],
      "metadata": {
        "colab": {
          "base_uri": "https://localhost:8080/"
        },
        "id": "-I7XBbC3iVdD",
        "outputId": "468d3b19-a47a-4324-8499-6dd3b5d0958c"
      },
      "execution_count": 11,
      "outputs": [
        {
          "output_type": "stream",
          "name": "stdout",
          "text": [
            "Digite a sua idade: 15\n",
            "Você é criança. O valor do ingresso é R$ 15.\n"
          ]
        }
      ]
    },
    {
      "cell_type": "markdown",
      "source": [
        "8"
      ],
      "metadata": {
        "id": "EEh2DOhpi0sn"
      }
    },
    {
      "cell_type": "code",
      "source": [
        "\n",
        "temperatura = float(input(\"Digite a temperatura ambiente em °C: \"))\n",
        "\n",
        "if temperatura < 20:\n",
        "    print(\"Frio\")\n",
        "elif 20 <= temperatura <= 30:\n",
        "    print(\"Agradável\")\n",
        "else:\n",
        "    print(\"Calor\")"
      ],
      "metadata": {
        "colab": {
          "base_uri": "https://localhost:8080/"
        },
        "id": "Bonfgwb-i2AA",
        "outputId": "fef01e60-822a-483a-9ea5-9716eb239a93"
      },
      "execution_count": 12,
      "outputs": [
        {
          "output_type": "stream",
          "name": "stdout",
          "text": [
            "Digite a temperatura ambiente em °C: 32\n",
            "Calor\n"
          ]
        }
      ]
    },
    {
      "cell_type": "markdown",
      "source": [
        "9\n"
      ],
      "metadata": {
        "id": "L2iTSeLgi-4-"
      }
    },
    {
      "cell_type": "code",
      "source": [
        "\n",
        "numero1 = float(input(\"Digite o primeiro número: \"))\n",
        "numero2 = float(input(\"Digite o segundo número: \"))\n",
        "operador = input(\"Digite o operador (+, -, *, /): \")\n",
        "\n",
        "if operador == '+':\n",
        "    resultado = numero1 + numero2\n",
        "    print(f\"Resultado: {resultado}\")\n",
        "elif operador == '-':\n",
        "    resultado = numero1 - numero2\n",
        "    print(f\"Resultado: {resultado}\")\n",
        "elif operador == '*':\n",
        "    resultado = numero1 * numero2\n",
        "    print(f\"Resultado: {resultado}\")\n",
        "elif operador == '/':\n",
        "    if numero2 != 0:\n",
        "        resultado = numero1 / numero2\n",
        "        print(f\"Resultado: {resultado}\")\n",
        "    else:\n",
        "        print(\"Erro: Divisão por zero não é permitida.\")\n",
        "else:\n",
        "    print(\"Operador inválido. Tente novamente com +, -, * ou /.\")"
      ],
      "metadata": {
        "colab": {
          "base_uri": "https://localhost:8080/"
        },
        "id": "nEZV31fQjAaF",
        "outputId": "2cedd22a-1705-4c74-aa17-1444de01f4c2"
      },
      "execution_count": 13,
      "outputs": [
        {
          "output_type": "stream",
          "name": "stdout",
          "text": [
            "Digite o primeiro número: 10\n",
            "Digite o segundo número: 20\n",
            "Digite o operador (+, -, *, /): +\n",
            "Resultado: 30.0\n"
          ]
        }
      ]
    },
    {
      "cell_type": "markdown",
      "source": [
        "10\n"
      ],
      "metadata": {
        "id": "od7uzAtMjYQB"
      }
    },
    {
      "cell_type": "code",
      "source": [
        "\n",
        "saldo = float(input(\"Digite o saldo da conta: R$ \"))\n",
        "saque = float(input(\"Digite o valor do saque: R$ \"))\n",
        "\n",
        "if saque <= saldo:\n",
        "    saldo -= saque\n",
        "    print(f\"Saque realizado com sucesso! Novo saldo: R$ {saldo:.2f}\")\n",
        "else:\n",
        "    print(\"Saldo insuficiente.\")"
      ],
      "metadata": {
        "colab": {
          "base_uri": "https://localhost:8080/"
        },
        "id": "e_ytOcAFjZXO",
        "outputId": "d93c46ad-c0cb-4cb5-a0c9-cd4a37743c13"
      },
      "execution_count": 14,
      "outputs": [
        {
          "output_type": "stream",
          "name": "stdout",
          "text": [
            "Digite o saldo da conta: R$ 1000\n",
            "Digite o valor do saque: R$ 500\n",
            "Saque realizado com sucesso! Novo saldo: R$ 500.00\n"
          ]
        }
      ]
    }
  ]
}